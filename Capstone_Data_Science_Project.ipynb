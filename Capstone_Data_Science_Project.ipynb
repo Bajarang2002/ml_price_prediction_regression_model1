{
 "cells": [
  {
   "cell_type": "code",
   "execution_count": 1,
   "id": "b3242d13",
   "metadata": {},
   "outputs": [],
   "source": [
    "import pandas as pd\n",
    "import numpy as np\n",
    "import matplotlib.pyplot as plt\n",
    "import seaborn as sns"
   ]
  },
  {
   "cell_type": "code",
   "execution_count": 2,
   "id": "df9ed791",
   "metadata": {},
   "outputs": [
    {
     "data": {
      "text/html": [
       "<div>\n",
       "<style scoped>\n",
       "    .dataframe tbody tr th:only-of-type {\n",
       "        vertical-align: middle;\n",
       "    }\n",
       "\n",
       "    .dataframe tbody tr th {\n",
       "        vertical-align: top;\n",
       "    }\n",
       "\n",
       "    .dataframe thead th {\n",
       "        text-align: right;\n",
       "    }\n",
       "</style>\n",
       "<table border=\"1\" class=\"dataframe\">\n",
       "  <thead>\n",
       "    <tr style=\"text-align: right;\">\n",
       "      <th></th>\n",
       "      <th>name</th>\n",
       "      <th>year</th>\n",
       "      <th>selling_price</th>\n",
       "      <th>km_driven</th>\n",
       "      <th>fuel</th>\n",
       "      <th>seller_type</th>\n",
       "      <th>transmission</th>\n",
       "      <th>owner</th>\n",
       "    </tr>\n",
       "  </thead>\n",
       "  <tbody>\n",
       "    <tr>\n",
       "      <th>0</th>\n",
       "      <td>Maruti 800 AC</td>\n",
       "      <td>2007</td>\n",
       "      <td>60000</td>\n",
       "      <td>70000</td>\n",
       "      <td>Petrol</td>\n",
       "      <td>Individual</td>\n",
       "      <td>Manual</td>\n",
       "      <td>First Owner</td>\n",
       "    </tr>\n",
       "    <tr>\n",
       "      <th>1</th>\n",
       "      <td>Maruti Wagon R LXI Minor</td>\n",
       "      <td>2007</td>\n",
       "      <td>135000</td>\n",
       "      <td>50000</td>\n",
       "      <td>Petrol</td>\n",
       "      <td>Individual</td>\n",
       "      <td>Manual</td>\n",
       "      <td>First Owner</td>\n",
       "    </tr>\n",
       "    <tr>\n",
       "      <th>2</th>\n",
       "      <td>Hyundai Verna 1.6 SX</td>\n",
       "      <td>2012</td>\n",
       "      <td>600000</td>\n",
       "      <td>100000</td>\n",
       "      <td>Diesel</td>\n",
       "      <td>Individual</td>\n",
       "      <td>Manual</td>\n",
       "      <td>First Owner</td>\n",
       "    </tr>\n",
       "    <tr>\n",
       "      <th>3</th>\n",
       "      <td>Datsun RediGO T Option</td>\n",
       "      <td>2017</td>\n",
       "      <td>250000</td>\n",
       "      <td>46000</td>\n",
       "      <td>Petrol</td>\n",
       "      <td>Individual</td>\n",
       "      <td>Manual</td>\n",
       "      <td>First Owner</td>\n",
       "    </tr>\n",
       "    <tr>\n",
       "      <th>4</th>\n",
       "      <td>Honda Amaze VX i-DTEC</td>\n",
       "      <td>2014</td>\n",
       "      <td>450000</td>\n",
       "      <td>141000</td>\n",
       "      <td>Diesel</td>\n",
       "      <td>Individual</td>\n",
       "      <td>Manual</td>\n",
       "      <td>Second Owner</td>\n",
       "    </tr>\n",
       "    <tr>\n",
       "      <th>5</th>\n",
       "      <td>Maruti Alto LX BSIII</td>\n",
       "      <td>2007</td>\n",
       "      <td>140000</td>\n",
       "      <td>125000</td>\n",
       "      <td>Petrol</td>\n",
       "      <td>Individual</td>\n",
       "      <td>Manual</td>\n",
       "      <td>First Owner</td>\n",
       "    </tr>\n",
       "    <tr>\n",
       "      <th>6</th>\n",
       "      <td>Hyundai Xcent 1.2 Kappa S</td>\n",
       "      <td>2016</td>\n",
       "      <td>550000</td>\n",
       "      <td>25000</td>\n",
       "      <td>Petrol</td>\n",
       "      <td>Individual</td>\n",
       "      <td>Manual</td>\n",
       "      <td>First Owner</td>\n",
       "    </tr>\n",
       "    <tr>\n",
       "      <th>7</th>\n",
       "      <td>Tata Indigo Grand Petrol</td>\n",
       "      <td>2014</td>\n",
       "      <td>240000</td>\n",
       "      <td>60000</td>\n",
       "      <td>Petrol</td>\n",
       "      <td>Individual</td>\n",
       "      <td>Manual</td>\n",
       "      <td>Second Owner</td>\n",
       "    </tr>\n",
       "    <tr>\n",
       "      <th>8</th>\n",
       "      <td>Hyundai Creta 1.6 VTVT S</td>\n",
       "      <td>2015</td>\n",
       "      <td>850000</td>\n",
       "      <td>25000</td>\n",
       "      <td>Petrol</td>\n",
       "      <td>Individual</td>\n",
       "      <td>Manual</td>\n",
       "      <td>First Owner</td>\n",
       "    </tr>\n",
       "    <tr>\n",
       "      <th>9</th>\n",
       "      <td>Maruti Celerio Green VXI</td>\n",
       "      <td>2017</td>\n",
       "      <td>365000</td>\n",
       "      <td>78000</td>\n",
       "      <td>CNG</td>\n",
       "      <td>Individual</td>\n",
       "      <td>Manual</td>\n",
       "      <td>First Owner</td>\n",
       "    </tr>\n",
       "    <tr>\n",
       "      <th>10</th>\n",
       "      <td>Chevrolet Sail 1.2 Base</td>\n",
       "      <td>2015</td>\n",
       "      <td>260000</td>\n",
       "      <td>35000</td>\n",
       "      <td>Petrol</td>\n",
       "      <td>Individual</td>\n",
       "      <td>Manual</td>\n",
       "      <td>First Owner</td>\n",
       "    </tr>\n",
       "    <tr>\n",
       "      <th>11</th>\n",
       "      <td>Tata Indigo Grand Petrol</td>\n",
       "      <td>2014</td>\n",
       "      <td>250000</td>\n",
       "      <td>100000</td>\n",
       "      <td>Petrol</td>\n",
       "      <td>Individual</td>\n",
       "      <td>Manual</td>\n",
       "      <td>First Owner</td>\n",
       "    </tr>\n",
       "    <tr>\n",
       "      <th>12</th>\n",
       "      <td>Toyota Corolla Altis 1.8 VL CVT</td>\n",
       "      <td>2018</td>\n",
       "      <td>1650000</td>\n",
       "      <td>25000</td>\n",
       "      <td>Petrol</td>\n",
       "      <td>Dealer</td>\n",
       "      <td>Automatic</td>\n",
       "      <td>First Owner</td>\n",
       "    </tr>\n",
       "    <tr>\n",
       "      <th>13</th>\n",
       "      <td>Maruti 800 AC</td>\n",
       "      <td>2007</td>\n",
       "      <td>60000</td>\n",
       "      <td>70000</td>\n",
       "      <td>Petrol</td>\n",
       "      <td>Individual</td>\n",
       "      <td>Manual</td>\n",
       "      <td>First Owner</td>\n",
       "    </tr>\n",
       "    <tr>\n",
       "      <th>14</th>\n",
       "      <td>Maruti Wagon R LXI Minor</td>\n",
       "      <td>2007</td>\n",
       "      <td>135000</td>\n",
       "      <td>50000</td>\n",
       "      <td>Petrol</td>\n",
       "      <td>Individual</td>\n",
       "      <td>Manual</td>\n",
       "      <td>First Owner</td>\n",
       "    </tr>\n",
       "    <tr>\n",
       "      <th>15</th>\n",
       "      <td>Hyundai Verna 1.6 SX</td>\n",
       "      <td>2012</td>\n",
       "      <td>600000</td>\n",
       "      <td>100000</td>\n",
       "      <td>Diesel</td>\n",
       "      <td>Individual</td>\n",
       "      <td>Manual</td>\n",
       "      <td>First Owner</td>\n",
       "    </tr>\n",
       "    <tr>\n",
       "      <th>16</th>\n",
       "      <td>Datsun RediGO T Option</td>\n",
       "      <td>2017</td>\n",
       "      <td>250000</td>\n",
       "      <td>46000</td>\n",
       "      <td>Petrol</td>\n",
       "      <td>Individual</td>\n",
       "      <td>Manual</td>\n",
       "      <td>First Owner</td>\n",
       "    </tr>\n",
       "    <tr>\n",
       "      <th>17</th>\n",
       "      <td>Honda Amaze VX i-DTEC</td>\n",
       "      <td>2014</td>\n",
       "      <td>450000</td>\n",
       "      <td>141000</td>\n",
       "      <td>Diesel</td>\n",
       "      <td>Individual</td>\n",
       "      <td>Manual</td>\n",
       "      <td>Second Owner</td>\n",
       "    </tr>\n",
       "    <tr>\n",
       "      <th>18</th>\n",
       "      <td>Maruti Alto LX BSIII</td>\n",
       "      <td>2007</td>\n",
       "      <td>140000</td>\n",
       "      <td>125000</td>\n",
       "      <td>Petrol</td>\n",
       "      <td>Individual</td>\n",
       "      <td>Manual</td>\n",
       "      <td>First Owner</td>\n",
       "    </tr>\n",
       "    <tr>\n",
       "      <th>19</th>\n",
       "      <td>Hyundai Xcent 1.2 Kappa S</td>\n",
       "      <td>2016</td>\n",
       "      <td>550000</td>\n",
       "      <td>25000</td>\n",
       "      <td>Petrol</td>\n",
       "      <td>Individual</td>\n",
       "      <td>Manual</td>\n",
       "      <td>First Owner</td>\n",
       "    </tr>\n",
       "  </tbody>\n",
       "</table>\n",
       "</div>"
      ],
      "text/plain": [
       "                               name  year  selling_price  km_driven    fuel   \n",
       "0                     Maruti 800 AC  2007          60000      70000  Petrol  \\\n",
       "1          Maruti Wagon R LXI Minor  2007         135000      50000  Petrol   \n",
       "2              Hyundai Verna 1.6 SX  2012         600000     100000  Diesel   \n",
       "3            Datsun RediGO T Option  2017         250000      46000  Petrol   \n",
       "4             Honda Amaze VX i-DTEC  2014         450000     141000  Diesel   \n",
       "5              Maruti Alto LX BSIII  2007         140000     125000  Petrol   \n",
       "6         Hyundai Xcent 1.2 Kappa S  2016         550000      25000  Petrol   \n",
       "7          Tata Indigo Grand Petrol  2014         240000      60000  Petrol   \n",
       "8          Hyundai Creta 1.6 VTVT S  2015         850000      25000  Petrol   \n",
       "9          Maruti Celerio Green VXI  2017         365000      78000     CNG   \n",
       "10          Chevrolet Sail 1.2 Base  2015         260000      35000  Petrol   \n",
       "11         Tata Indigo Grand Petrol  2014         250000     100000  Petrol   \n",
       "12  Toyota Corolla Altis 1.8 VL CVT  2018        1650000      25000  Petrol   \n",
       "13                    Maruti 800 AC  2007          60000      70000  Petrol   \n",
       "14         Maruti Wagon R LXI Minor  2007         135000      50000  Petrol   \n",
       "15             Hyundai Verna 1.6 SX  2012         600000     100000  Diesel   \n",
       "16           Datsun RediGO T Option  2017         250000      46000  Petrol   \n",
       "17            Honda Amaze VX i-DTEC  2014         450000     141000  Diesel   \n",
       "18             Maruti Alto LX BSIII  2007         140000     125000  Petrol   \n",
       "19        Hyundai Xcent 1.2 Kappa S  2016         550000      25000  Petrol   \n",
       "\n",
       "   seller_type transmission         owner  \n",
       "0   Individual       Manual   First Owner  \n",
       "1   Individual       Manual   First Owner  \n",
       "2   Individual       Manual   First Owner  \n",
       "3   Individual       Manual   First Owner  \n",
       "4   Individual       Manual  Second Owner  \n",
       "5   Individual       Manual   First Owner  \n",
       "6   Individual       Manual   First Owner  \n",
       "7   Individual       Manual  Second Owner  \n",
       "8   Individual       Manual   First Owner  \n",
       "9   Individual       Manual   First Owner  \n",
       "10  Individual       Manual   First Owner  \n",
       "11  Individual       Manual   First Owner  \n",
       "12      Dealer    Automatic   First Owner  \n",
       "13  Individual       Manual   First Owner  \n",
       "14  Individual       Manual   First Owner  \n",
       "15  Individual       Manual   First Owner  \n",
       "16  Individual       Manual   First Owner  \n",
       "17  Individual       Manual  Second Owner  \n",
       "18  Individual       Manual   First Owner  \n",
       "19  Individual       Manual   First Owner  "
      ]
     },
     "execution_count": 2,
     "metadata": {},
     "output_type": "execute_result"
    }
   ],
   "source": [
    "df=pd.read_csv(\"CAR DETAILS.csv\")\n",
    "df.head(20)"
   ]
  },
  {
   "cell_type": "code",
   "execution_count": 39,
   "id": "cbfef6b6",
   "metadata": {},
   "outputs": [
    {
     "data": {
      "text/plain": [
       "Index(['name', 'year', 'selling_price', 'km_driven', 'fuel', 'seller_type',\n",
       "       'transmission', 'owner'],\n",
       "      dtype='object')"
      ]
     },
     "execution_count": 39,
     "metadata": {},
     "output_type": "execute_result"
    }
   ],
   "source": [
    "df.columns"
   ]
  },
  {
   "cell_type": "code",
   "execution_count": null,
   "id": "27fd8014",
   "metadata": {},
   "outputs": [],
   "source": [
    "###Handling Nullvalue"
   ]
  },
  {
   "cell_type": "code",
   "execution_count": 3,
   "id": "a007ec86",
   "metadata": {},
   "outputs": [
    {
     "data": {
      "text/plain": [
       "name             0\n",
       "year             0\n",
       "selling_price    0\n",
       "km_driven        0\n",
       "fuel             0\n",
       "seller_type      0\n",
       "transmission     0\n",
       "owner            0\n",
       "dtype: int64"
      ]
     },
     "execution_count": 3,
     "metadata": {},
     "output_type": "execute_result"
    }
   ],
   "source": [
    "df.isnull().sum()"
   ]
  },
  {
   "cell_type": "code",
   "execution_count": 4,
   "id": "4f9891e0",
   "metadata": {},
   "outputs": [
    {
     "data": {
      "text/plain": [
       "Series([], dtype: int64)"
      ]
     },
     "execution_count": 4,
     "metadata": {},
     "output_type": "execute_result"
    }
   ],
   "source": [
    "nv=df.isnull().sum()\n",
    "nv=nv[nv>0]\n",
    "nv"
   ]
  },
  {
   "cell_type": "markdown",
   "id": "46f7bdb4",
   "metadata": {},
   "source": [
    "# Handling duplicates value"
   ]
  },
  {
   "cell_type": "code",
   "execution_count": 5,
   "id": "5dbac881",
   "metadata": {},
   "outputs": [
    {
     "data": {
      "text/plain": [
       "763"
      ]
     },
     "execution_count": 5,
     "metadata": {},
     "output_type": "execute_result"
    }
   ],
   "source": [
    "df.duplicated().sum()"
   ]
  },
  {
   "cell_type": "code",
   "execution_count": 6,
   "id": "ead4a485",
   "metadata": {},
   "outputs": [],
   "source": [
    "df.drop_duplicates(inplace= True)"
   ]
  },
  {
   "cell_type": "code",
   "execution_count": 7,
   "id": "19ca84f0",
   "metadata": {},
   "outputs": [
    {
     "data": {
      "text/plain": [
       "0"
      ]
     },
     "execution_count": 7,
     "metadata": {},
     "output_type": "execute_result"
    }
   ],
   "source": [
    "df.duplicated().sum()"
   ]
  },
  {
   "cell_type": "code",
   "execution_count": null,
   "id": "7c85bd5d",
   "metadata": {},
   "outputs": [],
   "source": [
    "### Checking Data types"
   ]
  },
  {
   "cell_type": "code",
   "execution_count": 8,
   "id": "8d234cae",
   "metadata": {},
   "outputs": [
    {
     "data": {
      "text/plain": [
       "name             object\n",
       "year              int64\n",
       "selling_price     int64\n",
       "km_driven         int64\n",
       "fuel             object\n",
       "seller_type      object\n",
       "transmission     object\n",
       "owner            object\n",
       "dtype: object"
      ]
     },
     "execution_count": 8,
     "metadata": {},
     "output_type": "execute_result"
    }
   ],
   "source": [
    "df.dtypes"
   ]
  },
  {
   "cell_type": "code",
   "execution_count": null,
   "id": "dcf8bb70",
   "metadata": {},
   "outputs": [],
   "source": [
    "###Select Numerical and categorical feature"
   ]
  },
  {
   "cell_type": "code",
   "execution_count": 4,
   "id": "4835cbc0",
   "metadata": {},
   "outputs": [
    {
     "name": "stdout",
     "output_type": "stream",
     "text": [
      "Index(['year', 'selling_price', 'km_driven'], dtype='object')\n",
      "Index(['name', 'fuel', 'seller_type', 'transmission', 'owner'], dtype='object')\n"
     ]
    }
   ],
   "source": [
    "num_cols=df.dtypes[df.dtypes!=object].index\n",
    "cat_cols=df.dtypes[df.dtypes==object].index\n",
    "print(num_cols)\n",
    "print(cat_cols)"
   ]
  },
  {
   "cell_type": "code",
   "execution_count": null,
   "id": "a21606a3",
   "metadata": {},
   "outputs": [],
   "source": [
    "### EDA"
   ]
  },
  {
   "cell_type": "code",
   "execution_count": 5,
   "id": "1fd3c690",
   "metadata": {},
   "outputs": [
    {
     "name": "stdout",
     "output_type": "stream",
     "text": [
      "Feature name | Unique Count 1491\n",
      "Feature fuel | Unique Count 5\n",
      "Feature seller_type | Unique Count 3\n",
      "Feature transmission | Unique Count 2\n",
      "Feature owner | Unique Count 5\n"
     ]
    }
   ],
   "source": [
    "for i in cat_cols:\n",
    "    print(f\"Feature {i} | Unique Count {df[i].nunique()}\")"
   ]
  },
  {
   "cell_type": "code",
   "execution_count": 6,
   "id": "4779a716",
   "metadata": {},
   "outputs": [
    {
     "data": {
      "image/png": "[encoded data removed]",
      "text/plain": [
       "<Figure size 1000x600 with 4 Axes>"
      ]
     },
     "metadata": {},
     "output_type": "display_data"
    }
   ],
   "source": [
    "cols=['fuel', 'seller_type', 'transmission', 'owner']\n",
    "plt.figure(figsize=(10,6))\n",
    "for i in range(len(cols)):\n",
    "    plt.subplot(2,2,i+1)\n",
    "    sns.countplot(x=df[cols[i]])\n",
    "    plt.title(f\"Countplot for {cols[i]}\")\n",
    "plt.tight_layout()\n",
    "plt.show()"
   ]
  },
  {
   "cell_type": "code",
   "execution_count": 7,
   "id": "247ed1d0",
   "metadata": {},
   "outputs": [
    {
     "data": {
      "image/png": "[encoded data removed]",
      "text/plain": [
       "<Figure size 1000x600 with 4 Axes>"
      ]
     },
     "metadata": {},
     "output_type": "display_data"
    }
   ],
   "source": [
    "cols=['fuel', 'seller_type', 'transmission', 'owner']\n",
    "plt.figure(figsize=(10,6))\n",
    "for i in range(len(cols)):\n",
    "    plt.subplot(2,2,i+1)\n",
    "    sns.boxplot(y=df[cols[i]],x=df['selling_price'])\n",
    "    plt.title(f\"Boxplot for {cols[i]}\")\n",
    "plt.tight_layout()\n",
    "plt.show()"
   ]
  },
  {
   "cell_type": "code",
   "execution_count": 8,
   "id": "e4fa6301",
   "metadata": {},
   "outputs": [
    {
     "name": "stdout",
     "output_type": "stream",
     "text": [
      "Feature year | Unique Count 27\n",
      "Feature selling_price | Unique Count 445\n",
      "Feature km_driven | Unique Count 770\n"
     ]
    }
   ],
   "source": [
    "for i in num_cols:\n",
    "    print(f\"Feature {i} | Unique Count {df[i].nunique()}\")"
   ]
  },
  {
   "cell_type": "code",
   "execution_count": 9,
   "id": "f7090506",
   "metadata": {},
   "outputs": [
    {
     "data": {
      "image/png": "[encoded data removed]",
      "text/plain": [
       "<Figure size 1000x600 with 1 Axes>"
      ]
     },
     "metadata": {},
     "output_type": "display_data"
    }
   ],
   "source": [
    "cols=['year']\n",
    "plt.figure(figsize=(10,6))\n",
    "for i in range(len(cols)):\n",
    "    plt.subplot(1,1,i+1)\n",
    "    sns.countplot(x=df[cols[i]])\n",
    "    plt.title(f\"Countplot for {cols[i]}\")\n",
    "plt.tight_layout()\n",
    "plt.xticks(rotation=45)\n",
    "plt.show()"
   ]
  },
  {
   "cell_type": "code",
   "execution_count": 10,
   "id": "4cf53a55",
   "metadata": {},
   "outputs": [
    {
     "data": {
      "image/png": "[encoded data removed]",
      "text/plain": [
       "<Figure size 1000x600 with 3 Axes>"
      ]
     },
     "metadata": {},
     "output_type": "display_data"
    }
   ],
   "source": [
    "cols=['year', 'selling_price', 'km_driven']\n",
    "plt.figure(figsize=(10,6))\n",
    "for i in range(len(cols)):\n",
    "    plt.subplot(2,2,i+1)\n",
    "    sns.kdeplot(x=df[cols[i]])\n",
    "    plt.title(f\"kdeplot for {cols[i]}\")\n",
    "plt.tight_layout()\n",
    "plt.show()"
   ]
  },
  {
   "cell_type": "code",
   "execution_count": null,
   "id": "424c4655",
   "metadata": {},
   "outputs": [],
   "source": [
    "### Correation"
   ]
  },
  {
   "cell_type": "code",
   "execution_count": 11,
   "id": "cc6147f7",
   "metadata": {},
   "outputs": [
    {
     "data": {
      "image/png": "[encoded data removed]",
      "text/plain": [
       "<Figure size 1000x500 with 2 Axes>"
      ]
     },
     "metadata": {},
     "output_type": "display_data"
    }
   ],
   "source": [
    "corr=df[num_cols].corr()\n",
    "plt.figure(figsize=(10,5))\n",
    "sns.heatmap(corr,annot=True,cmap='RdBu')\n",
    "plt.show()"
   ]
  },
  {
   "cell_type": "code",
   "execution_count": 38,
   "id": "a6695929",
   "metadata": {},
   "outputs": [],
   "source": [
    "### Outlier Treatment"
   ]
  },
  {
   "cell_type": "code",
   "execution_count": 12,
   "id": "1f343907",
   "metadata": {},
   "outputs": [
    {
     "data": {
      "text/html": [
       "<div>\n",
       "<style scoped>\n",
       "    .dataframe tbody tr th:only-of-type {\n",
       "        vertical-align: middle;\n",
       "    }\n",
       "\n",
       "    .dataframe tbody tr th {\n",
       "        vertical-align: top;\n",
       "    }\n",
       "\n",
       "    .dataframe thead th {\n",
       "        text-align: right;\n",
       "    }\n",
       "</style>\n",
       "<table border=\"1\" class=\"dataframe\">\n",
       "  <thead>\n",
       "    <tr style=\"text-align: right;\">\n",
       "      <th></th>\n",
       "      <th>min</th>\n",
       "      <th>1%</th>\n",
       "      <th>2%</th>\n",
       "      <th>5%</th>\n",
       "      <th>50%</th>\n",
       "      <th>95%</th>\n",
       "      <th>98%</th>\n",
       "      <th>99%</th>\n",
       "      <th>max</th>\n",
       "    </tr>\n",
       "  </thead>\n",
       "  <tbody>\n",
       "    <tr>\n",
       "      <th>year</th>\n",
       "      <td>1992.0</td>\n",
       "      <td>2001.00</td>\n",
       "      <td>2003.0</td>\n",
       "      <td>2005.0</td>\n",
       "      <td>2014.0</td>\n",
       "      <td>2019.0</td>\n",
       "      <td>2019.0</td>\n",
       "      <td>2020.0</td>\n",
       "      <td>2020.0</td>\n",
       "    </tr>\n",
       "    <tr>\n",
       "      <th>selling_price</th>\n",
       "      <td>20000.0</td>\n",
       "      <td>55000.00</td>\n",
       "      <td>65000.0</td>\n",
       "      <td>80000.0</td>\n",
       "      <td>350000.0</td>\n",
       "      <td>1300000.0</td>\n",
       "      <td>2492200.0</td>\n",
       "      <td>3200000.0</td>\n",
       "      <td>8900000.0</td>\n",
       "    </tr>\n",
       "    <tr>\n",
       "      <th>km_driven</th>\n",
       "      <td>1.0</td>\n",
       "      <td>1444.68</td>\n",
       "      <td>5000.0</td>\n",
       "      <td>10000.0</td>\n",
       "      <td>60000.0</td>\n",
       "      <td>140000.0</td>\n",
       "      <td>186000.0</td>\n",
       "      <td>220000.0</td>\n",
       "      <td>806599.0</td>\n",
       "    </tr>\n",
       "  </tbody>\n",
       "</table>\n",
       "</div>"
      ],
      "text/plain": [
       "                   min        1%       2%       5%       50%        95%   \n",
       "year            1992.0   2001.00   2003.0   2005.0    2014.0     2019.0  \\\n",
       "selling_price  20000.0  55000.00  65000.0  80000.0  350000.0  1300000.0   \n",
       "km_driven          1.0   1444.68   5000.0  10000.0   60000.0   140000.0   \n",
       "\n",
       "                     98%        99%        max  \n",
       "year              2019.0     2020.0     2020.0  \n",
       "selling_price  2492200.0  3200000.0  8900000.0  \n",
       "km_driven       186000.0   220000.0   806599.0  "
      ]
     },
     "execution_count": 12,
     "metadata": {},
     "output_type": "execute_result"
    }
   ],
   "source": [
    "a =df[num_cols].describe(percentiles=[0.01,0.02,0.05,0.95,0.98,0.99]).T\n",
    "a=a.iloc[:,3:]\n",
    "a"
   ]
  },
  {
   "cell_type": "code",
   "execution_count": 13,
   "id": "ee7de4d4",
   "metadata": {},
   "outputs": [
    {
     "data": {
      "image/png": "[encoded data removed]",
      "text/plain": [
       "<Figure size 1000x600 with 3 Axes>"
      ]
     },
     "metadata": {},
     "output_type": "display_data"
    }
   ],
   "source": [
    "cols=['year', 'selling_price', 'km_driven']\n",
    "plt.figure(figsize=(10,6))\n",
    "for i in range(len(cols)):\n",
    "    \n",
    "    plt.subplot(2,2,i+1)\n",
    "    sns.boxplot(x=df[cols[i]])\n",
    "    plt.title(f\"boxplot for {cols[i]}\")\n",
    "plt.tight_layout()\n",
    "plt.show()"
   ]
  },
  {
   "cell_type": "code",
   "execution_count": 14,
   "id": "c2bc7e1c",
   "metadata": {},
   "outputs": [],
   "source": [
    "df['year']=np.where(df['year']<2000,2000,df['year'])\n",
    "df['selling_price']=np.where(df['selling_price']>1300000,1300000,df['selling_price'])\n",
    "df['km_driven']=np.where(df['km_driven']>200000,200000,df['km_driven'])"
   ]
  },
  {
   "cell_type": "code",
   "execution_count": 15,
   "id": "e2ac0953",
   "metadata": {},
   "outputs": [
    {
     "data": {
      "image/png": "[encoded data removed]",
      "text/plain": [
       "<Figure size 1000x600 with 3 Axes>"
      ]
     },
     "metadata": {},
     "output_type": "display_data"
    }
   ],
   "source": [
    "cols=['year', 'selling_price', 'km_driven']\n",
    "plt.figure(figsize=(10,6))\n",
    "for i in range(len(cols)):\n",
    "    \n",
    "    plt.subplot(2,2,i+1)\n",
    "    sns.boxplot(x=df[cols[i]])\n",
    "    plt.title(f\"boxplot for {cols[i]}\")\n",
    "plt.tight_layout()\n",
    "plt.show()"
   ]
  },
  {
   "cell_type": "code",
   "execution_count": null,
   "id": "05b65dec",
   "metadata": {},
   "outputs": [],
   "source": [
    "###Encoding categorical featrue"
   ]
  },
  {
   "cell_type": "code",
   "execution_count": 16,
   "id": "fe321d9b",
   "metadata": {},
   "outputs": [
    {
     "name": "stdout",
     "output_type": "stream",
     "text": [
      "(4340, 1504)\n",
      "Index(['year', 'selling_price', 'km_driven',\n",
      "       'name_Ambassador Classic 2000 Dsz',\n",
      "       'name_Ambassador Grand 1800 ISZ MPFI PW CL', 'name_Audi A4 1.8 TFSI',\n",
      "       'name_Audi A4 2.0 TDI', 'name_Audi A4 2.0 TDI 177 Bhp Premium Plus',\n",
      "       'name_Audi A4 3.0 TDI Quattro', 'name_Audi A4 30 TFSI Technology',\n",
      "       ...\n",
      "       'fuel_Electric', 'fuel_LPG', 'fuel_Petrol', 'seller_type_Individual',\n",
      "       'seller_type_Trustmark Dealer', 'transmission_Manual',\n",
      "       'owner_Fourth & Above Owner', 'owner_Second Owner',\n",
      "       'owner_Test Drive Car', 'owner_Third Owner'],\n",
      "      dtype='object', length=1504)\n"
     ]
    }
   ],
   "source": [
    "df_dum=pd.get_dummies(data=df,columns=cat_cols,drop_first=True)\n",
    "print(df_dum.shape)\n",
    "print(df_dum.columns)"
   ]
  },
  {
   "cell_type": "code",
   "execution_count": 81,
   "id": "9423daa4",
   "metadata": {},
   "outputs": [],
   "source": [
    "### Select X and Y"
   ]
  },
  {
   "cell_type": "code",
   "execution_count": 17,
   "id": "ec1b8a96",
   "metadata": {},
   "outputs": [
    {
     "name": "stdout",
     "output_type": "stream",
     "text": [
      "(4340, 1503)\n",
      "(4340,)\n"
     ]
    }
   ],
   "source": [
    "x=df_dum.drop('selling_price',axis=1)\n",
    "y=df['selling_price']\n",
    "print(x.shape)\n",
    "print(y.shape)"
   ]
  },
  {
   "cell_type": "code",
   "execution_count": 18,
   "id": "b206d9df",
   "metadata": {},
   "outputs": [],
   "source": [
    "from sklearn.model_selection import train_test_split"
   ]
  },
  {
   "cell_type": "code",
   "execution_count": 19,
   "id": "7a54e322",
   "metadata": {},
   "outputs": [
    {
     "name": "stdout",
     "output_type": "stream",
     "text": [
      "(3255, 1503)\n",
      "(1085, 1503)\n",
      "(3255,)\n",
      "(1085,)\n"
     ]
    }
   ],
   "source": [
    "x_train,x_test,y_train,y_test=train_test_split(x,y,test_size=0.25,random_state=42)\n",
    "print(x_train.shape)\n",
    "print(x_test.shape)\n",
    "print(y_train.shape)\n",
    "print(y_test.shape)"
   ]
  },
  {
   "cell_type": "code",
   "execution_count": 20,
   "id": "6e1acdf4",
   "metadata": {},
   "outputs": [],
   "source": [
    "from sklearn.metrics import mean_squared_error,mean_absolute_error"
   ]
  },
  {
   "cell_type": "code",
   "execution_count": 21,
   "id": "1c4e7e99",
   "metadata": {},
   "outputs": [],
   "source": [
    "def eval_model(model,x_train,y_train,x_test,y_test,mname):\n",
    "    model.fit(x_train,y_train)\n",
    "    y_pred=model.predict(x_test)\n",
    "    train_score=model.score(x_train,y_train)\n",
    "    test_score=model.score(x_test,y_test)\n",
    "    mae=mean_absolute_error(y_test,y_pred)\n",
    "    mse=mean_squared_error(y_test,y_pred)\n",
    "    rmse=np.sqrt(mse)\n",
    "    res=pd.DataFrame({\"Train_score\": train_score,\"Test_score\":test_score,\"MAE\":mae,\"MSE\":mse,\"RMSE\":rmse},index=[mname])\n",
    "    return res"
   ]
  },
  {
   "cell_type": "code",
   "execution_count": 22,
   "id": "01bcbd4d",
   "metadata": {},
   "outputs": [],
   "source": [
    "from sklearn.linear_model import LinearRegression,Ridge,Lasso\n",
    "from sklearn.tree import DecisionTreeRegressor\n",
    "from sklearn.ensemble import RandomForestRegressor,BaggingRegressor,AdaBoostRegressor\n",
    "from sklearn.neighbors import KNeighborsRegressor"
   ]
  },
  {
   "cell_type": "code",
   "execution_count": 23,
   "id": "141343fe",
   "metadata": {},
   "outputs": [
    {
     "data": {
      "text/html": [
       "<div>\n",
       "<style scoped>\n",
       "    .dataframe tbody tr th:only-of-type {\n",
       "        vertical-align: middle;\n",
       "    }\n",
       "\n",
       "    .dataframe tbody tr th {\n",
       "        vertical-align: top;\n",
       "    }\n",
       "\n",
       "    .dataframe thead th {\n",
       "        text-align: right;\n",
       "    }\n",
       "</style>\n",
       "<table border=\"1\" class=\"dataframe\">\n",
       "  <thead>\n",
       "    <tr style=\"text-align: right;\">\n",
       "      <th></th>\n",
       "      <th>Train_score</th>\n",
       "      <th>Test_score</th>\n",
       "      <th>MAE</th>\n",
       "      <th>MSE</th>\n",
       "      <th>RMSE</th>\n",
       "    </tr>\n",
       "  </thead>\n",
       "  <tbody>\n",
       "    <tr>\n",
       "      <th>LR_Reg</th>\n",
       "      <td>0.964161</td>\n",
       "      <td>-4.315888e+11</td>\n",
       "      <td>2.587763e+10</td>\n",
       "      <td>4.492620e+22</td>\n",
       "      <td>2.119580e+11</td>\n",
       "    </tr>\n",
       "  </tbody>\n",
       "</table>\n",
       "</div>"
      ],
      "text/plain": [
       "        Train_score    Test_score           MAE           MSE          RMSE\n",
       "LR_Reg     0.964161 -4.315888e+11  2.587763e+10  4.492620e+22  2.119580e+11"
      ]
     },
     "execution_count": 23,
     "metadata": {},
     "output_type": "execute_result"
    }
   ],
   "source": [
    "lr=LinearRegression()\n",
    "lr_res=eval_model(lr,x_train,y_train,x_test,y_test,'LR_Reg')\n",
    "lr_res"
   ]
  },
  {
   "cell_type": "code",
   "execution_count": 24,
   "id": "8124aaa6",
   "metadata": {},
   "outputs": [
    {
     "data": {
      "text/html": [
       "<div>\n",
       "<style scoped>\n",
       "    .dataframe tbody tr th:only-of-type {\n",
       "        vertical-align: middle;\n",
       "    }\n",
       "\n",
       "    .dataframe tbody tr th {\n",
       "        vertical-align: top;\n",
       "    }\n",
       "\n",
       "    .dataframe thead th {\n",
       "        text-align: right;\n",
       "    }\n",
       "</style>\n",
       "<table border=\"1\" class=\"dataframe\">\n",
       "  <thead>\n",
       "    <tr style=\"text-align: right;\">\n",
       "      <th></th>\n",
       "      <th>Train_score</th>\n",
       "      <th>Test_score</th>\n",
       "      <th>MAE</th>\n",
       "      <th>MSE</th>\n",
       "      <th>RMSE</th>\n",
       "    </tr>\n",
       "  </thead>\n",
       "  <tbody>\n",
       "    <tr>\n",
       "      <th>Ridge_Reg</th>\n",
       "      <td>0.774749</td>\n",
       "      <td>0.71498</td>\n",
       "      <td>124122.329219</td>\n",
       "      <td>2.966910e+10</td>\n",
       "      <td>172247.214513</td>\n",
       "    </tr>\n",
       "  </tbody>\n",
       "</table>\n",
       "</div>"
      ],
      "text/plain": [
       "           Train_score  Test_score            MAE           MSE           RMSE\n",
       "Ridge_Reg     0.774749     0.71498  124122.329219  2.966910e+10  172247.214513"
      ]
     },
     "execution_count": 24,
     "metadata": {},
     "output_type": "execute_result"
    }
   ],
   "source": [
    "rid=Ridge(alpha=7)\n",
    "rid_res=eval_model(rid,x_train,y_train,x_test,y_test,'Ridge_Reg')\n",
    "rid_res"
   ]
  },
  {
   "cell_type": "code",
   "execution_count": 25,
   "id": "1bdd9386",
   "metadata": {
    "scrolled": true
   },
   "outputs": [
    {
     "data": {
      "text/html": [
       "<div>\n",
       "<style scoped>\n",
       "    .dataframe tbody tr th:only-of-type {\n",
       "        vertical-align: middle;\n",
       "    }\n",
       "\n",
       "    .dataframe tbody tr th {\n",
       "        vertical-align: top;\n",
       "    }\n",
       "\n",
       "    .dataframe thead th {\n",
       "        text-align: right;\n",
       "    }\n",
       "</style>\n",
       "<table border=\"1\" class=\"dataframe\">\n",
       "  <thead>\n",
       "    <tr style=\"text-align: right;\">\n",
       "      <th></th>\n",
       "      <th>Train_score</th>\n",
       "      <th>Test_score</th>\n",
       "      <th>MAE</th>\n",
       "      <th>MSE</th>\n",
       "      <th>RMSE</th>\n",
       "    </tr>\n",
       "  </thead>\n",
       "  <tbody>\n",
       "    <tr>\n",
       "      <th>Lasso_Reg</th>\n",
       "      <td>0.962652</td>\n",
       "      <td>0.805627</td>\n",
       "      <td>87296.297649</td>\n",
       "      <td>2.023326e+10</td>\n",
       "      <td>142243.677414</td>\n",
       "    </tr>\n",
       "  </tbody>\n",
       "</table>\n",
       "</div>"
      ],
      "text/plain": [
       "           Train_score  Test_score           MAE           MSE           RMSE\n",
       "Lasso_Reg     0.962652    0.805627  87296.297649  2.023326e+10  142243.677414"
      ]
     },
     "execution_count": 25,
     "metadata": {},
     "output_type": "execute_result"
    }
   ],
   "source": [
    "las=Lasso(alpha=7)\n",
    "las_res=eval_model(las,x_train,y_train,x_test,y_test,'Lasso_Reg')\n",
    "las_res"
   ]
  },
  {
   "cell_type": "markdown",
   "id": "a976153e",
   "metadata": {},
   "source": [
    "\n"
   ]
  },
  {
   "cell_type": "code",
   "execution_count": 26,
   "id": "0210420d",
   "metadata": {},
   "outputs": [
    {
     "data": {
      "text/html": [
       "<div>\n",
       "<style scoped>\n",
       "    .dataframe tbody tr th:only-of-type {\n",
       "        vertical-align: middle;\n",
       "    }\n",
       "\n",
       "    .dataframe tbody tr th {\n",
       "        vertical-align: top;\n",
       "    }\n",
       "\n",
       "    .dataframe thead th {\n",
       "        text-align: right;\n",
       "    }\n",
       "</style>\n",
       "<table border=\"1\" class=\"dataframe\">\n",
       "  <thead>\n",
       "    <tr style=\"text-align: right;\">\n",
       "      <th></th>\n",
       "      <th>Train_score</th>\n",
       "      <th>Test_score</th>\n",
       "      <th>MAE</th>\n",
       "      <th>MSE</th>\n",
       "      <th>RMSE</th>\n",
       "    </tr>\n",
       "  </thead>\n",
       "  <tbody>\n",
       "    <tr>\n",
       "      <th>DT_Reg</th>\n",
       "      <td>0.731397</td>\n",
       "      <td>0.646294</td>\n",
       "      <td>131803.107992</td>\n",
       "      <td>3.681897e+10</td>\n",
       "      <td>191882.694731</td>\n",
       "    </tr>\n",
       "  </tbody>\n",
       "</table>\n",
       "</div>"
      ],
      "text/plain": [
       "        Train_score  Test_score            MAE           MSE           RMSE\n",
       "DT_Reg     0.731397    0.646294  131803.107992  3.681897e+10  191882.694731"
      ]
     },
     "execution_count": 26,
     "metadata": {},
     "output_type": "execute_result"
    }
   ],
   "source": [
    "dt=DecisionTreeRegressor(max_depth=7,min_samples_split=42)\n",
    "dt_res=eval_model(dt,x_train,y_train,x_test,y_test,'DT_Reg')\n",
    "dt_res"
   ]
  },
  {
   "cell_type": "code",
   "execution_count": 27,
   "id": "3039f5b1",
   "metadata": {},
   "outputs": [
    {
     "data": {
      "text/html": [
       "<div>\n",
       "<style scoped>\n",
       "    .dataframe tbody tr th:only-of-type {\n",
       "        vertical-align: middle;\n",
       "    }\n",
       "\n",
       "    .dataframe tbody tr th {\n",
       "        vertical-align: top;\n",
       "    }\n",
       "\n",
       "    .dataframe thead th {\n",
       "        text-align: right;\n",
       "    }\n",
       "</style>\n",
       "<table border=\"1\" class=\"dataframe\">\n",
       "  <thead>\n",
       "    <tr style=\"text-align: right;\">\n",
       "      <th></th>\n",
       "      <th>Train_score</th>\n",
       "      <th>Test_score</th>\n",
       "      <th>MAE</th>\n",
       "      <th>MSE</th>\n",
       "      <th>RMSE</th>\n",
       "    </tr>\n",
       "  </thead>\n",
       "  <tbody>\n",
       "    <tr>\n",
       "      <th>RF_Reg</th>\n",
       "      <td>0.757993</td>\n",
       "      <td>0.684492</td>\n",
       "      <td>126675.004365</td>\n",
       "      <td>3.284272e+10</td>\n",
       "      <td>181225.60607</td>\n",
       "    </tr>\n",
       "  </tbody>\n",
       "</table>\n",
       "</div>"
      ],
      "text/plain": [
       "        Train_score  Test_score            MAE           MSE          RMSE\n",
       "RF_Reg     0.757993    0.684492  126675.004365  3.284272e+10  181225.60607"
      ]
     },
     "execution_count": 27,
     "metadata": {},
     "output_type": "execute_result"
    }
   ],
   "source": [
    "rf=RandomForestRegressor(n_estimators=15,max_depth=7,min_samples_split=22)\n",
    "rf_res=eval_model(rf,x_train,y_train,x_test,y_test,'RF_Reg')\n",
    "rf_res"
   ]
  },
  {
   "cell_type": "code",
   "execution_count": 28,
   "id": "08309924",
   "metadata": {},
   "outputs": [
    {
     "name": "stderr",
     "output_type": "stream",
     "text": [
      "C:\\Users\\urp20\\AppData\\Local\\Programs\\Python\\Python311\\Lib\\site-packages\\sklearn\\ensemble\\_base.py:156: FutureWarning: `base_estimator` was renamed to `estimator` in version 1.2 and will be removed in 1.4.\n",
      "  warnings.warn(\n"
     ]
    },
    {
     "data": {
      "text/html": [
       "<div>\n",
       "<style scoped>\n",
       "    .dataframe tbody tr th:only-of-type {\n",
       "        vertical-align: middle;\n",
       "    }\n",
       "\n",
       "    .dataframe tbody tr th {\n",
       "        vertical-align: top;\n",
       "    }\n",
       "\n",
       "    .dataframe thead th {\n",
       "        text-align: right;\n",
       "    }\n",
       "</style>\n",
       "<table border=\"1\" class=\"dataframe\">\n",
       "  <thead>\n",
       "    <tr style=\"text-align: right;\">\n",
       "      <th></th>\n",
       "      <th>Train_score</th>\n",
       "      <th>Test_score</th>\n",
       "      <th>MAE</th>\n",
       "      <th>MSE</th>\n",
       "      <th>RMSE</th>\n",
       "    </tr>\n",
       "  </thead>\n",
       "  <tbody>\n",
       "    <tr>\n",
       "      <th>Bag_Reg</th>\n",
       "      <td>0.744601</td>\n",
       "      <td>0.681608</td>\n",
       "      <td>126328.731034</td>\n",
       "      <td>3.314302e+10</td>\n",
       "      <td>182052.254003</td>\n",
       "    </tr>\n",
       "  </tbody>\n",
       "</table>\n",
       "</div>"
      ],
      "text/plain": [
       "         Train_score  Test_score            MAE           MSE           RMSE\n",
       "Bag_Reg     0.744601    0.681608  126328.731034  3.314302e+10  182052.254003"
      ]
     },
     "execution_count": 28,
     "metadata": {},
     "output_type": "execute_result"
    }
   ],
   "source": [
    "rf_base=RandomForestRegressor(n_estimators=15,max_depth=7,min_samples_split=22)\n",
    "bag=BaggingRegressor(base_estimator=rf_base,max_samples=x_train.shape[0],max_features=x_train.shape[1])\n",
    "bag_res=eval_model(bag,x_train,y_train,x_test,y_test,'Bag_Reg')\n",
    "bag_res"
   ]
  },
  {
   "cell_type": "code",
   "execution_count": 29,
   "id": "63f106db",
   "metadata": {},
   "outputs": [
    {
     "data": {
      "text/html": [
       "<div>\n",
       "<style scoped>\n",
       "    .dataframe tbody tr th:only-of-type {\n",
       "        vertical-align: middle;\n",
       "    }\n",
       "\n",
       "    .dataframe tbody tr th {\n",
       "        vertical-align: top;\n",
       "    }\n",
       "\n",
       "    .dataframe thead th {\n",
       "        text-align: right;\n",
       "    }\n",
       "</style>\n",
       "<table border=\"1\" class=\"dataframe\">\n",
       "  <thead>\n",
       "    <tr style=\"text-align: right;\">\n",
       "      <th></th>\n",
       "      <th>Train_score</th>\n",
       "      <th>Test_score</th>\n",
       "      <th>MAE</th>\n",
       "      <th>MSE</th>\n",
       "      <th>RMSE</th>\n",
       "    </tr>\n",
       "  </thead>\n",
       "  <tbody>\n",
       "    <tr>\n",
       "      <th>Ada_Reg</th>\n",
       "      <td>0.581746</td>\n",
       "      <td>0.578272</td>\n",
       "      <td>171284.435791</td>\n",
       "      <td>4.389968e+10</td>\n",
       "      <td>209522.508893</td>\n",
       "    </tr>\n",
       "  </tbody>\n",
       "</table>\n",
       "</div>"
      ],
      "text/plain": [
       "         Train_score  Test_score            MAE           MSE           RMSE\n",
       "Ada_Reg     0.581746    0.578272  171284.435791  4.389968e+10  209522.508893"
      ]
     },
     "execution_count": 29,
     "metadata": {},
     "output_type": "execute_result"
    }
   ],
   "source": [
    "ada=AdaBoostRegressor(n_estimators=15,random_state=22)\n",
    "ada_res=eval_model(ada,x_train,y_train,x_test,y_test,'Ada_Reg')\n",
    "ada_res\n"
   ]
  },
  {
   "cell_type": "code",
   "execution_count": 30,
   "id": "a1a90407",
   "metadata": {},
   "outputs": [
    {
     "data": {
      "text/html": [
       "<div>\n",
       "<style scoped>\n",
       "    .dataframe tbody tr th:only-of-type {\n",
       "        vertical-align: middle;\n",
       "    }\n",
       "\n",
       "    .dataframe tbody tr th {\n",
       "        vertical-align: top;\n",
       "    }\n",
       "\n",
       "    .dataframe thead th {\n",
       "        text-align: right;\n",
       "    }\n",
       "</style>\n",
       "<table border=\"1\" class=\"dataframe\">\n",
       "  <thead>\n",
       "    <tr style=\"text-align: right;\">\n",
       "      <th></th>\n",
       "      <th>Train_score</th>\n",
       "      <th>Test_score</th>\n",
       "      <th>MAE</th>\n",
       "      <th>MSE</th>\n",
       "      <th>RMSE</th>\n",
       "    </tr>\n",
       "  </thead>\n",
       "  <tbody>\n",
       "    <tr>\n",
       "      <th>knn</th>\n",
       "      <td>0.479752</td>\n",
       "      <td>0.348904</td>\n",
       "      <td>185067.036559</td>\n",
       "      <td>6.777577e+10</td>\n",
       "      <td>260337.799223</td>\n",
       "    </tr>\n",
       "  </tbody>\n",
       "</table>\n",
       "</div>"
      ],
      "text/plain": [
       "     Train_score  Test_score            MAE           MSE           RMSE\n",
       "knn     0.479752    0.348904  185067.036559  6.777577e+10  260337.799223"
      ]
     },
     "execution_count": 30,
     "metadata": {},
     "output_type": "execute_result"
    }
   ],
   "source": [
    "knn=KNeighborsRegressor(n_neighbors=15)\n",
    "knn_res=eval_model(knn,x_train,y_train,x_test,y_test,'knn')\n",
    "knn_res"
   ]
  },
  {
   "cell_type": "code",
   "execution_count": 32,
   "id": "57877442",
   "metadata": {},
   "outputs": [
    {
     "data": {
      "text/html": [
       "<div>\n",
       "<style scoped>\n",
       "    .dataframe tbody tr th:only-of-type {\n",
       "        vertical-align: middle;\n",
       "    }\n",
       "\n",
       "    .dataframe tbody tr th {\n",
       "        vertical-align: top;\n",
       "    }\n",
       "\n",
       "    .dataframe thead th {\n",
       "        text-align: right;\n",
       "    }\n",
       "</style>\n",
       "<table border=\"1\" class=\"dataframe\">\n",
       "  <thead>\n",
       "    <tr style=\"text-align: right;\">\n",
       "      <th></th>\n",
       "      <th>Train_score</th>\n",
       "      <th>Test_score</th>\n",
       "      <th>MAE</th>\n",
       "      <th>MSE</th>\n",
       "      <th>RMSE</th>\n",
       "    </tr>\n",
       "  </thead>\n",
       "  <tbody>\n",
       "    <tr>\n",
       "      <th>LR_Reg</th>\n",
       "      <td>0.964161</td>\n",
       "      <td>-4.315888e+11</td>\n",
       "      <td>2.587763e+10</td>\n",
       "      <td>4.492620e+22</td>\n",
       "      <td>2.119580e+11</td>\n",
       "    </tr>\n",
       "    <tr>\n",
       "      <th>Ridge_Reg</th>\n",
       "      <td>0.774749</td>\n",
       "      <td>7.149802e-01</td>\n",
       "      <td>1.241223e+05</td>\n",
       "      <td>2.966910e+10</td>\n",
       "      <td>1.722472e+05</td>\n",
       "    </tr>\n",
       "    <tr>\n",
       "      <th>Lasso_Reg</th>\n",
       "      <td>0.962652</td>\n",
       "      <td>8.056267e-01</td>\n",
       "      <td>8.729630e+04</td>\n",
       "      <td>2.023326e+10</td>\n",
       "      <td>1.422437e+05</td>\n",
       "    </tr>\n",
       "    <tr>\n",
       "      <th>DT_Reg</th>\n",
       "      <td>0.731397</td>\n",
       "      <td>6.462942e-01</td>\n",
       "      <td>1.318031e+05</td>\n",
       "      <td>3.681897e+10</td>\n",
       "      <td>1.918827e+05</td>\n",
       "    </tr>\n",
       "    <tr>\n",
       "      <th>RF_Reg</th>\n",
       "      <td>0.757993</td>\n",
       "      <td>6.844925e-01</td>\n",
       "      <td>1.266750e+05</td>\n",
       "      <td>3.284272e+10</td>\n",
       "      <td>1.812256e+05</td>\n",
       "    </tr>\n",
       "    <tr>\n",
       "      <th>Bag_Reg</th>\n",
       "      <td>0.744601</td>\n",
       "      <td>6.816076e-01</td>\n",
       "      <td>1.263287e+05</td>\n",
       "      <td>3.314302e+10</td>\n",
       "      <td>1.820523e+05</td>\n",
       "    </tr>\n",
       "    <tr>\n",
       "      <th>Ada_Reg</th>\n",
       "      <td>0.581746</td>\n",
       "      <td>5.782725e-01</td>\n",
       "      <td>1.712844e+05</td>\n",
       "      <td>4.389968e+10</td>\n",
       "      <td>2.095225e+05</td>\n",
       "    </tr>\n",
       "    <tr>\n",
       "      <th>knn</th>\n",
       "      <td>0.479752</td>\n",
       "      <td>3.489040e-01</td>\n",
       "      <td>1.850670e+05</td>\n",
       "      <td>6.777577e+10</td>\n",
       "      <td>2.603378e+05</td>\n",
       "    </tr>\n",
       "  </tbody>\n",
       "</table>\n",
       "</div>"
      ],
      "text/plain": [
       "           Train_score    Test_score           MAE           MSE          RMSE\n",
       "LR_Reg        0.964161 -4.315888e+11  2.587763e+10  4.492620e+22  2.119580e+11\n",
       "Ridge_Reg     0.774749  7.149802e-01  1.241223e+05  2.966910e+10  1.722472e+05\n",
       "Lasso_Reg     0.962652  8.056267e-01  8.729630e+04  2.023326e+10  1.422437e+05\n",
       "DT_Reg        0.731397  6.462942e-01  1.318031e+05  3.681897e+10  1.918827e+05\n",
       "RF_Reg        0.757993  6.844925e-01  1.266750e+05  3.284272e+10  1.812256e+05\n",
       "Bag_Reg       0.744601  6.816076e-01  1.263287e+05  3.314302e+10  1.820523e+05\n",
       "Ada_Reg       0.581746  5.782725e-01  1.712844e+05  4.389968e+10  2.095225e+05\n",
       "knn           0.479752  3.489040e-01  1.850670e+05  6.777577e+10  2.603378e+05"
      ]
     },
     "execution_count": 32,
     "metadata": {},
     "output_type": "execute_result"
    }
   ],
   "source": [
    "all_join=pd.concat([lr_res,rid_res,las_res,dt_res,rf_res,bag_res,ada_res,knn_res])\n",
    "all_join"
   ]
  },
  {
   "cell_type": "code",
   "execution_count": 62,
   "id": "bc374fc8",
   "metadata": {},
   "outputs": [],
   "source": [
    "###inferance\n",
    "\n",
    "# 1) Best_model with minimum Rmse:Lasso\n",
    "# 2) Best_model with maximum Test score:Lasso\n",
    "# 3) Best_model with minimal overfitting:Bag\n",
    "\n"
   ]
  },
  {
   "cell_type": "code",
   "execution_count": 37,
   "id": "8023267b",
   "metadata": {},
   "outputs": [],
   "source": [
    "import pickle"
   ]
  },
  {
   "cell_type": "code",
   "execution_count": 64,
   "id": "9830b273",
   "metadata": {},
   "outputs": [],
   "source": [
    "pickle.dump(lr,open(\"Linear_reg model.pkl\",\"wb\"))\n",
    "pickle.dump(rid,open(\"Ridge_reg model.pkl\",\"wb\"))\n",
    "pickle.dump(las,open(\"Lasso_reg model.pkl\",\"wb\"))\n",
    "pickle.dump(rf,open(\"RandomForest_reg model.pkl\",\"wb\"))\n",
    "pickle.dump(bag,open(\"Bagging_reg model.pkl\",\"wb\"))"
   ]
  },
  {
   "cell_type": "code",
   "execution_count": 33,
   "id": "e2a53c74",
   "metadata": {},
   "outputs": [
    {
     "data": {
      "text/html": [
       "<div>\n",
       "<style scoped>\n",
       "    .dataframe tbody tr th:only-of-type {\n",
       "        vertical-align: middle;\n",
       "    }\n",
       "\n",
       "    .dataframe tbody tr th {\n",
       "        vertical-align: top;\n",
       "    }\n",
       "\n",
       "    .dataframe thead th {\n",
       "        text-align: right;\n",
       "    }\n",
       "</style>\n",
       "<table border=\"1\" class=\"dataframe\">\n",
       "  <thead>\n",
       "    <tr style=\"text-align: right;\">\n",
       "      <th></th>\n",
       "      <th>year</th>\n",
       "      <th>selling_price</th>\n",
       "      <th>km_driven</th>\n",
       "      <th>name_Ambassador Classic 2000 Dsz</th>\n",
       "      <th>name_Ambassador Grand 1800 ISZ MPFI PW CL</th>\n",
       "      <th>name_Audi A4 1.8 TFSI</th>\n",
       "      <th>name_Audi A4 2.0 TDI</th>\n",
       "      <th>name_Audi A4 2.0 TDI 177 Bhp Premium Plus</th>\n",
       "      <th>name_Audi A4 3.0 TDI Quattro</th>\n",
       "      <th>name_Audi A4 30 TFSI Technology</th>\n",
       "      <th>...</th>\n",
       "      <th>fuel_Electric</th>\n",
       "      <th>fuel_LPG</th>\n",
       "      <th>fuel_Petrol</th>\n",
       "      <th>seller_type_Individual</th>\n",
       "      <th>seller_type_Trustmark Dealer</th>\n",
       "      <th>transmission_Manual</th>\n",
       "      <th>owner_Fourth &amp; Above Owner</th>\n",
       "      <th>owner_Second Owner</th>\n",
       "      <th>owner_Test Drive Car</th>\n",
       "      <th>owner_Third Owner</th>\n",
       "    </tr>\n",
       "  </thead>\n",
       "  <tbody>\n",
       "    <tr>\n",
       "      <th>0</th>\n",
       "      <td>2007</td>\n",
       "      <td>60000</td>\n",
       "      <td>70000</td>\n",
       "      <td>False</td>\n",
       "      <td>False</td>\n",
       "      <td>False</td>\n",
       "      <td>False</td>\n",
       "      <td>False</td>\n",
       "      <td>False</td>\n",
       "      <td>False</td>\n",
       "      <td>...</td>\n",
       "      <td>False</td>\n",
       "      <td>False</td>\n",
       "      <td>True</td>\n",
       "      <td>True</td>\n",
       "      <td>False</td>\n",
       "      <td>True</td>\n",
       "      <td>False</td>\n",
       "      <td>False</td>\n",
       "      <td>False</td>\n",
       "      <td>False</td>\n",
       "    </tr>\n",
       "    <tr>\n",
       "      <th>1</th>\n",
       "      <td>2007</td>\n",
       "      <td>135000</td>\n",
       "      <td>50000</td>\n",
       "      <td>False</td>\n",
       "      <td>False</td>\n",
       "      <td>False</td>\n",
       "      <td>False</td>\n",
       "      <td>False</td>\n",
       "      <td>False</td>\n",
       "      <td>False</td>\n",
       "      <td>...</td>\n",
       "      <td>False</td>\n",
       "      <td>False</td>\n",
       "      <td>True</td>\n",
       "      <td>True</td>\n",
       "      <td>False</td>\n",
       "      <td>True</td>\n",
       "      <td>False</td>\n",
       "      <td>False</td>\n",
       "      <td>False</td>\n",
       "      <td>False</td>\n",
       "    </tr>\n",
       "    <tr>\n",
       "      <th>2</th>\n",
       "      <td>2012</td>\n",
       "      <td>600000</td>\n",
       "      <td>100000</td>\n",
       "      <td>False</td>\n",
       "      <td>False</td>\n",
       "      <td>False</td>\n",
       "      <td>False</td>\n",
       "      <td>False</td>\n",
       "      <td>False</td>\n",
       "      <td>False</td>\n",
       "      <td>...</td>\n",
       "      <td>False</td>\n",
       "      <td>False</td>\n",
       "      <td>False</td>\n",
       "      <td>True</td>\n",
       "      <td>False</td>\n",
       "      <td>True</td>\n",
       "      <td>False</td>\n",
       "      <td>False</td>\n",
       "      <td>False</td>\n",
       "      <td>False</td>\n",
       "    </tr>\n",
       "    <tr>\n",
       "      <th>3</th>\n",
       "      <td>2017</td>\n",
       "      <td>250000</td>\n",
       "      <td>46000</td>\n",
       "      <td>False</td>\n",
       "      <td>False</td>\n",
       "      <td>False</td>\n",
       "      <td>False</td>\n",
       "      <td>False</td>\n",
       "      <td>False</td>\n",
       "      <td>False</td>\n",
       "      <td>...</td>\n",
       "      <td>False</td>\n",
       "      <td>False</td>\n",
       "      <td>True</td>\n",
       "      <td>True</td>\n",
       "      <td>False</td>\n",
       "      <td>True</td>\n",
       "      <td>False</td>\n",
       "      <td>False</td>\n",
       "      <td>False</td>\n",
       "      <td>False</td>\n",
       "    </tr>\n",
       "    <tr>\n",
       "      <th>4</th>\n",
       "      <td>2014</td>\n",
       "      <td>450000</td>\n",
       "      <td>141000</td>\n",
       "      <td>False</td>\n",
       "      <td>False</td>\n",
       "      <td>False</td>\n",
       "      <td>False</td>\n",
       "      <td>False</td>\n",
       "      <td>False</td>\n",
       "      <td>False</td>\n",
       "      <td>...</td>\n",
       "      <td>False</td>\n",
       "      <td>False</td>\n",
       "      <td>False</td>\n",
       "      <td>True</td>\n",
       "      <td>False</td>\n",
       "      <td>True</td>\n",
       "      <td>False</td>\n",
       "      <td>True</td>\n",
       "      <td>False</td>\n",
       "      <td>False</td>\n",
       "    </tr>\n",
       "  </tbody>\n",
       "</table>\n",
       "<p>5 rows × 1504 columns</p>\n",
       "</div>"
      ],
      "text/plain": [
       "   year  selling_price  km_driven  name_Ambassador Classic 2000 Dsz   \n",
       "0  2007          60000      70000                             False  \\\n",
       "1  2007         135000      50000                             False   \n",
       "2  2012         600000     100000                             False   \n",
       "3  2017         250000      46000                             False   \n",
       "4  2014         450000     141000                             False   \n",
       "\n",
       "   name_Ambassador Grand 1800 ISZ MPFI PW CL  name_Audi A4 1.8 TFSI   \n",
       "0                                      False                  False  \\\n",
       "1                                      False                  False   \n",
       "2                                      False                  False   \n",
       "3                                      False                  False   \n",
       "4                                      False                  False   \n",
       "\n",
       "   name_Audi A4 2.0 TDI  name_Audi A4 2.0 TDI 177 Bhp Premium Plus   \n",
       "0                 False                                      False  \\\n",
       "1                 False                                      False   \n",
       "2                 False                                      False   \n",
       "3                 False                                      False   \n",
       "4                 False                                      False   \n",
       "\n",
       "   name_Audi A4 3.0 TDI Quattro  name_Audi A4 30 TFSI Technology  ...   \n",
       "0                         False                            False  ...  \\\n",
       "1                         False                            False  ...   \n",
       "2                         False                            False  ...   \n",
       "3                         False                            False  ...   \n",
       "4                         False                            False  ...   \n",
       "\n",
       "   fuel_Electric  fuel_LPG  fuel_Petrol  seller_type_Individual   \n",
       "0          False     False         True                    True  \\\n",
       "1          False     False         True                    True   \n",
       "2          False     False        False                    True   \n",
       "3          False     False         True                    True   \n",
       "4          False     False        False                    True   \n",
       "\n",
       "   seller_type_Trustmark Dealer  transmission_Manual   \n",
       "0                         False                 True  \\\n",
       "1                         False                 True   \n",
       "2                         False                 True   \n",
       "3                         False                 True   \n",
       "4                         False                 True   \n",
       "\n",
       "   owner_Fourth & Above Owner  owner_Second Owner  owner_Test Drive Car   \n",
       "0                       False               False                 False  \\\n",
       "1                       False               False                 False   \n",
       "2                       False               False                 False   \n",
       "3                       False               False                 False   \n",
       "4                       False                True                 False   \n",
       "\n",
       "   owner_Third Owner  \n",
       "0              False  \n",
       "1              False  \n",
       "2              False  \n",
       "3              False  \n",
       "4              False  \n",
       "\n",
       "[5 rows x 1504 columns]"
      ]
     },
     "execution_count": 33,
     "metadata": {},
     "output_type": "execute_result"
    }
   ],
   "source": [
    "df_dum.head()"
   ]
  },
  {
   "cell_type": "code",
   "execution_count": 40,
   "id": "39f2078f",
   "metadata": {},
   "outputs": [
    {
     "data": {
      "text/plain": [
       "Index(['year', 'selling_price', 'km_driven',\n",
       "       'name_Ambassador Classic 2000 Dsz',\n",
       "       'name_Ambassador Grand 1800 ISZ MPFI PW CL', 'name_Audi A4 1.8 TFSI',\n",
       "       'name_Audi A4 2.0 TDI', 'name_Audi A4 2.0 TDI 177 Bhp Premium Plus',\n",
       "       'name_Audi A4 3.0 TDI Quattro', 'name_Audi A4 30 TFSI Technology',\n",
       "       ...\n",
       "       'fuel_Electric', 'fuel_LPG', 'fuel_Petrol', 'seller_type_Individual',\n",
       "       'seller_type_Trustmark Dealer', 'transmission_Manual',\n",
       "       'owner_Fourth & Above Owner', 'owner_Second Owner',\n",
       "       'owner_Test Drive Car', 'owner_Third Owner'],\n",
       "      dtype='object', length=1504)"
      ]
     },
     "execution_count": 40,
     "metadata": {},
     "output_type": "execute_result"
    }
   ],
   "source": [
    "df_dum.columns"
   ]
  },
  {
   "cell_type": "code",
   "execution_count": 43,
   "id": "63f67fc9",
   "metadata": {},
   "outputs": [
    {
     "data": {
      "text/plain": [
       "year\n",
       "2017    346\n",
       "2012    338\n",
       "2015    332\n",
       "2014    321\n",
       "2013    298\n",
       "2018    295\n",
       "2016    283\n",
       "2011    247\n",
       "2010    210\n",
       "2009    169\n",
       "2019    162\n",
       "2008    129\n",
       "2007    117\n",
       "2006     93\n",
       "2005     61\n",
       "2020     45\n",
       "2004     38\n",
       "2000     37\n",
       "2003     22\n",
       "2002     18\n",
       "2001     16\n",
       "Name: count, dtype: int64"
      ]
     },
     "execution_count": 43,
     "metadata": {},
     "output_type": "execute_result"
    }
   ],
   "source": [
    "df_dum['year'].value_counts()"
   ]
  },
  {
   "cell_type": "code",
   "execution_count": 44,
   "id": "c6e1fc83",
   "metadata": {},
   "outputs": [
    {
     "data": {
      "text/plain": [
       "selling_price\n",
       "1300000    148\n",
       "300000     137\n",
       "250000     112\n",
       "350000     106\n",
       "500000      87\n",
       "          ... \n",
       "828999       1\n",
       "1119000      1\n",
       "746000       1\n",
       "811999       1\n",
       "865000       1\n",
       "Name: count, Length: 373, dtype: int64"
      ]
     },
     "execution_count": 44,
     "metadata": {},
     "output_type": "execute_result"
    }
   ],
   "source": [
    "df_dum['selling_price'].value_counts()"
   ]
  },
  {
   "cell_type": "code",
   "execution_count": 45,
   "id": "ac746b66",
   "metadata": {},
   "outputs": [
    {
     "data": {
      "text/plain": [
       "km_driven\n",
       "70000     210\n",
       "120000    199\n",
       "80000     199\n",
       "60000     194\n",
       "50000     181\n",
       "         ... \n",
       "21394       1\n",
       "32686       1\n",
       "53261       1\n",
       "39895       1\n",
       "112198      1\n",
       "Name: count, Length: 734, dtype: int64"
      ]
     },
     "execution_count": 45,
     "metadata": {},
     "output_type": "execute_result"
    }
   ],
   "source": [
    "df_dum['km_driven'].value_counts()"
   ]
  },
  {
   "cell_type": "code",
   "execution_count": 47,
   "id": "99641b57",
   "metadata": {},
   "outputs": [
    {
     "data": {
      "text/plain": [
       "fuel\n",
       "Diesel      1800\n",
       "Petrol      1717\n",
       "CNG           37\n",
       "LPG           22\n",
       "Electric       1\n",
       "Name: count, dtype: int64"
      ]
     },
     "execution_count": 47,
     "metadata": {},
     "output_type": "execute_result"
    }
   ],
   "source": [
    "df['fuel'].value_counts()"
   ]
  },
  {
   "cell_type": "code",
   "execution_count": null,
   "id": "cbc3ff10",
   "metadata": {},
   "outputs": [],
   "source": []
  },
  {
   "cell_type": "code",
   "execution_count": null,
   "id": "b6b2849a",
   "metadata": {},
   "outputs": [],
   "source": []
  }
 ],
 "metadata": {
  "kernelspec": {
   "display_name": "Python 3 (ipykernel)",
   "language": "python",
   "name": "python3"
  },
  "language_info": {
   "codemirror_mode": {
    "name": "ipython",
    "version": 3
   },
   "file_extension": ".py",
   "mimetype": "text/x-python",
   "name": "python",
   "nbconvert_exporter": "python",
   "pygments_lexer": "ipython3",
   "version": "3.11.3"
  }
 },
 "nbformat": 4,
 "nbformat_minor": 5
}
